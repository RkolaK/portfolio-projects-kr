{
 "cells": [
  {
   "cell_type": "markdown",
   "id": "1663bfc7",
   "metadata": {},
   "source": [
    "### Author: KR\n",
    "### Date: 02/12/2024"
   ]
  },
  {
   "cell_type": "markdown",
   "id": "4b067d6c",
   "metadata": {},
   "source": [
    "### URL Scrap"
   ]
  },
  {
   "cell_type": "markdown",
   "id": "d0a45157",
   "metadata": {},
   "source": [
    "1 - Import the necessary libraries, including regex and beautifulsoup."
   ]
  },
  {
   "cell_type": "code",
   "execution_count": 1,
   "id": "814fa90a",
   "metadata": {},
   "outputs": [],
   "source": [
    "# Import the libraries\n",
    "import re\n",
    "from bs4 import BeautifulSoup\n",
    "import requests"
   ]
  },
  {
   "cell_type": "markdown",
   "id": "0d6a75e3",
   "metadata": {},
   "source": [
    "2 - Check the SSL certificate."
   ]
  },
  {
   "cell_type": "markdown",
   "id": "21e8dc65",
   "metadata": {},
   "source": [
    "3 - Read the HTML from the URL."
   ]
  },
  {
   "cell_type": "code",
   "execution_count": 3,
   "id": "1db7b514",
   "metadata": {},
   "outputs": [],
   "source": [
    "url = 'https://www.gutenberg.org/browse/scores/top'\n",
    "response = requests.get(url)"
   ]
  },
  {
   "cell_type": "markdown",
   "id": "2640a576",
   "metadata": {},
   "source": [
    "4 - Write a small function to check the status of the web request."
   ]
  },
  {
   "cell_type": "code",
   "execution_count": 4,
   "id": "da319e4f",
   "metadata": {},
   "outputs": [],
   "source": [
    "def check_status(r):\n",
    "    if r.status_code == 200:\n",
    "        print(\"Success! Status code: 200\")\n",
    "        return True\n",
    "    else:\n",
    "        print(f\"Failed! Status code: {r.status_code}\")\n",
    "        return False"
   ]
  },
  {
   "cell_type": "code",
   "execution_count": 5,
   "id": "2306081f",
   "metadata": {},
   "outputs": [
    {
     "name": "stdout",
     "output_type": "stream",
     "text": [
      "Success! Status code: 200\n",
      "Proceed with parsing the response.\n"
     ]
    }
   ],
   "source": [
    "if check_status(response):\n",
    "    print(\"Proceed with parsing the response.\")\n",
    "else:\n",
    "    print(\"Check the URL or your network connection and try again.\")"
   ]
  },
  {
   "cell_type": "markdown",
   "id": "c5fe3e3f",
   "metadata": {},
   "source": [
    "5 - Decode the response and pass this on to BeautifulSoup for HTML parsing."
   ]
  },
  {
   "cell_type": "code",
   "execution_count": 6,
   "id": "9f4a36b5",
   "metadata": {},
   "outputs": [
    {
     "name": "stdout",
     "output_type": "stream",
     "text": [
      "HTML parsing successful!\n"
     ]
    }
   ],
   "source": [
    "if response.status_code == 200:\n",
    "    html_content = response.content.decode('utf-8')\n",
    "    soup = BeautifulSoup(html_content, 'html.parser')\n",
    "    print(\"HTML parsing successful!\")\n",
    "else:\n",
    "    print(\"Failed to retrieve or decode the HTML.\")"
   ]
  },
  {
   "cell_type": "markdown",
   "id": "dba38389",
   "metadata": {},
   "source": [
    "6 - Find all the href tags and store them in the list of links. Check what the list looks like – print the first 30 elements."
   ]
  },
  {
   "cell_type": "code",
   "execution_count": 7,
   "id": "0ba50055",
   "metadata": {},
   "outputs": [],
   "source": [
    "links = [a.get('href') for a in soup.find_all('a', href=True)]"
   ]
  },
  {
   "cell_type": "code",
   "execution_count": 8,
   "id": "15f9ccba",
   "metadata": {},
   "outputs": [
    {
     "name": "stdout",
     "output_type": "stream",
     "text": [
      "First 30 links found:\n",
      "/\n",
      "/about/\n",
      "/about/\n",
      "/policy/collection_development.html\n",
      "/about/contact_information.html\n",
      "/about/background/\n",
      "/policy/permission.html\n",
      "/policy/privacy_policy.html\n",
      "/policy/terms_of_use.html\n",
      "/ebooks/\n",
      "/ebooks/\n",
      "/ebooks/bookshelf/\n",
      "/browse/scores/top\n",
      "/ebooks/offline_catalogs.html\n",
      "/help/\n",
      "/help/\n",
      "/help/copyright.html\n",
      "/help/errata.html\n",
      "/help/file_formats.html\n",
      "/help/faq.html\n",
      "/policy/\n",
      "/help/public_domain_ebook_submission.html\n",
      "/help/submitting_your_own_work.html\n",
      "/help/mobile.html\n",
      "/attic/\n",
      "/donate/\n",
      "/donate/\n",
      "#books-last1\n",
      "#authors-last1\n",
      "#books-last7\n"
     ]
    }
   ],
   "source": [
    "print(\"First 30 links found:\")\n",
    "for link in links[:30]:\n",
    "    print(link)"
   ]
  },
  {
   "cell_type": "markdown",
   "id": "26dd64d3",
   "metadata": {},
   "source": [
    "7 - Use a regular expression to find the numeric digits in these links. These are the file numbers for the top 100 eBooks."
   ]
  },
  {
   "cell_type": "code",
   "execution_count": 9,
   "id": "34c888b9",
   "metadata": {},
   "outputs": [],
   "source": [
    "pattern = r'/ebooks/(\\d+)'"
   ]
  },
  {
   "cell_type": "markdown",
   "id": "1c1a2f60",
   "metadata": {},
   "source": [
    "8 - Initialize the empty list to hold the file numbers over an appropriate range and use regex to find the numeric digits in the link href string. Use the findall method."
   ]
  },
  {
   "cell_type": "code",
   "execution_count": 10,
   "id": "6db51805",
   "metadata": {},
   "outputs": [],
   "source": [
    "# Initialize an empty list to hold the file numbers\n",
    "file_numbers = []\n",
    "\n",
    "for link in links:\n",
    "    found = re.findall(pattern, link)\n",
    "    if found:  \n",
    "        file_numbers.extend(found)"
   ]
  },
  {
   "cell_type": "code",
   "execution_count": 11,
   "id": "f979d643",
   "metadata": {},
   "outputs": [
    {
     "name": "stdout",
     "output_type": "stream",
     "text": [
      "File numbers found: ['84', '1342', '2701', '1513', '145', '2641', '100', '37106', '16389', '67979', '394', '6761', '2160', '6593', '4085', '5197', '1259', '64317', '11', '72907', '31591', '844', '174', '1952', '2542', '5200', '98', '1080', '2554', '345', '72909', '76', '25344', '1400', '43', '1260', '72906', '72910', '58585', '28054', '72908', '46', '1661', '6130', '408', '4300', '219', '55387', '2591', '72911', '2000', '1727', '3207', '2600', '5740', '1232', '72904', '36034', '768', '2814', '74', '996', '1998', '23', '15399', '1497', '205', '514', '30254', '1184', '4363', '45', '8800', '16', '41445', '42324', '730', '27827', '72913', '2852', '7370', '55', '2680', '16328', '72914', '158', '67098', '72902', '120', '8492', '72901', '600', '829', '244', '161', '35', '10', '5827', '72916', '3296']\n"
     ]
    }
   ],
   "source": [
    "print(\"File numbers found:\", file_numbers[:100])"
   ]
  },
  {
   "cell_type": "markdown",
   "id": "8a1f960e",
   "metadata": {},
   "source": [
    "9 - What does the soup object's text look like? Use the .text method and print only the first 2,000 characters (do not print the whole thing, as it is too long)."
   ]
  },
  {
   "cell_type": "code",
   "execution_count": 12,
   "id": "19772b45",
   "metadata": {},
   "outputs": [
    {
     "name": "stdout",
     "output_type": "stream",
     "text": [
      "\n",
      "\n",
      "\n",
      "\n",
      "Top 100 | Project Gutenberg\n",
      "\n",
      "\n",
      "\n",
      "\n",
      "\n",
      "\n",
      "\n",
      "\n",
      "\n",
      "\n",
      "\n",
      "\n",
      "\n",
      "\n",
      "\n",
      "\n",
      "\n",
      "\n",
      "\n",
      "\n",
      "\n",
      "\n",
      "\n",
      "\n",
      "\n",
      "\n",
      "\n",
      "Menu▾\n",
      "\n",
      "\n",
      "\n",
      "About\n",
      "          ▾\n",
      "\n",
      "▾\n",
      "\n",
      "\n",
      "About Project Gutenberg\n",
      "Collection Development\n",
      "Contact Us\n",
      "History & Philosophy\n",
      "Permissions & License\n",
      "Privacy Policy\n",
      "Terms of Use\n",
      "\n",
      "\n",
      "\n",
      "Search and Browse\n",
      "      \t  ▾\n",
      "\n",
      "▾\n",
      "\n",
      "\n",
      "Book Search\n",
      "Bookshelves\n",
      "Frequently Downloaded\n",
      "Offline Catalogs\n",
      "\n",
      "\n",
      "\n",
      "Help\n",
      "          ▾\n",
      "\n",
      "▾\n",
      "\n",
      "\n",
      "All help topics →\n",
      "Copyright How-To\n",
      "Errata, Fixes and Bug Reports\n",
      "File Formats\n",
      "Frequently Asked Questions\n",
      "Policies →\n",
      "Public Domain eBook Submission\n",
      "Submitting Your Own Work\n",
      "Tablets, Phones and eReaders\n",
      "The Attic →\n",
      "\n",
      "\n",
      "Donate\n",
      "\n",
      "\n",
      "\n",
      "\n",
      "\n",
      "\n",
      "\n",
      "\n",
      "\n",
      "\n",
      "Donation\n",
      "\n",
      "\n",
      "\n",
      "\n",
      "\n",
      "\n",
      "\n",
      "Frequently Viewed or Downloaded\n",
      "These listings are based on the number of times each eBook gets downloaded.\n",
      "      Multiple downloads from the same Internet address on the same day count as one download, and addresses that download more than 100 eBooks in a day are considered robots and are not counted.\n",
      "\n",
      "Downloaded Books\n",
      "2024-02-09287760\n",
      "last 7 days2236551\n",
      "last 30 days7154714\n",
      "\n",
      "\n",
      "\n",
      "Top 100 EBooks yesterday\n",
      "Top 100 Authors yesterday\n",
      "Top 100 EBooks last 7 days\n",
      "Top 100 Authors last 7 days\n",
      "Top 100 EBooks last 30 days\n",
      "Top 100 Authors last 30 days\n",
      "\n",
      "\n",
      "Top 100 EBooks yesterday\n",
      "\n",
      "Frankenstein; Or, The Modern Prometheus by Mary Wollstonecraft Shelley (3340)\n",
      "Pride and Prejudice by Jane Austen (2366)\n",
      "Moby Dick; Or, The Whale by Herman Melville (2258)\n",
      "Romeo and Juliet by William Shakespeare (2088)\n",
      "Middlemarch by George Eliot (1657)\n",
      "A Room with a View by E. M.  Forster (1541)\n",
      "The Complete Works of William Shakespeare by William Shakespeare (1535)\n",
      "Little Women; Or, Meg, Jo, Beth, and Amy by Louisa May Alcott (1528)\n",
      "The Enchanted April by Elizabeth Von Arnim (1350)\n",
      "The Blue Castle: a novel by L. M.  Montgomery (1347)\n",
      "Cranford by Elizabeth Cleghorn Gaskell (1259)\n",
      "The Adventures of Ferdinand Count Fathom — Complete by T.  Smollett (1248)\n",
      "The Expedition of Humphry Clinker by T.  Smollett (1242)\n",
      "History of Tom Jones, a Foundling by Henry Fielding (1232)\n",
      "The Adventures of Roderick Random by T.  Smollett (1228)\n",
      "\n"
     ]
    }
   ],
   "source": [
    "soup_text = soup.text\n",
    "print(soup_text[:2000])"
   ]
  },
  {
   "cell_type": "markdown",
   "id": "8ee74655",
   "metadata": {},
   "source": [
    "10 - Search in the extracted text (using a regular expression) from the soup object to find the names of the top 100 eBooks (yesterday's ranking).  \n",
    "11 -  Create a starting index. It should point at the text Top 100 Ebooks yesterday. Use the splitlines method of soup.text. It splits the lines of text of the soup object."
   ]
  },
  {
   "cell_type": "code",
   "execution_count": 15,
   "id": "f513d3ff",
   "metadata": {},
   "outputs": [],
   "source": [
    "ebook_list_temp = []\n",
    "start_index=soup.text.splitlines().index('Top 100 EBooks yesterday')"
   ]
  },
  {
   "cell_type": "markdown",
   "id": "8d302fc4",
   "metadata": {},
   "source": [
    "12 - Loop 1-100 to add the strings of the next 100 lines to this temporary list. Hint: use the splitlines method."
   ]
  },
  {
   "cell_type": "code",
   "execution_count": 16,
   "id": "17a8fcd1",
   "metadata": {},
   "outputs": [],
   "source": [
    "for i in range(start_index + 1, start_index + 101):\n",
    "    ebook_list_temp.append(lines[i])"
   ]
  },
  {
   "cell_type": "code",
   "execution_count": 18,
   "id": "87ab8943",
   "metadata": {},
   "outputs": [
    {
     "name": "stdout",
     "output_type": "stream",
     "text": [
      "First 5 ebook entries in temporary list:\n",
      "Top 100 Authors yesterday\n",
      "Top 100 EBooks last 7 days\n",
      "Top 100 Authors last 7 days\n",
      "Top 100 EBooks last 30 days\n",
      "Top 100 Authors last 30 days\n"
     ]
    }
   ],
   "source": [
    "print(\"First 5 ebook entries in temporary list:\")\n",
    "for ebook_entry in ebook_list_temp[:5]:\n",
    "    print(ebook_entry)"
   ]
  },
  {
   "cell_type": "markdown",
   "id": "a3a31606",
   "metadata": {},
   "source": [
    "13 - Use a regular expression to extract only text from the name strings and append it to an empty list. Use match and span to find the indices and use them."
   ]
  },
  {
   "cell_type": "code",
   "execution_count": 26,
   "id": "e67e6cf7",
   "metadata": {},
   "outputs": [],
   "source": [
    "clean_ebook_titles = []\n",
    "pattern = re.compile(r'^(.+?)\\s+\\(\\d+\\)$')\n",
    "\n",
    "for entry in ebook_list_temp:\n",
    "    match = pattern.match(entry)\n",
    "    if match:\n",
    "        title_and_author = match.group(1)\n",
    "        clean_ebook_titles.append(title_and_author)"
   ]
  },
  {
   "cell_type": "code",
   "execution_count": 27,
   "id": "20e96ab4",
   "metadata": {},
   "outputs": [
    {
     "name": "stdout",
     "output_type": "stream",
     "text": [
      "Extracted eBook titles and authors:\n",
      "Frankenstein; Or, The Modern Prometheus by Mary Wollstonecraft Shelley\n",
      "Pride and Prejudice by Jane Austen\n",
      "Moby Dick; Or, The Whale by Herman Melville\n",
      "Romeo and Juliet by William Shakespeare\n",
      "Middlemarch by George Eliot\n",
      "A Room with a View by E. M.  Forster\n",
      "The Complete Works of William Shakespeare by William Shakespeare\n",
      "Little Women; Or, Meg, Jo, Beth, and Amy by Louisa May Alcott\n",
      "The Enchanted April by Elizabeth Von Arnim\n",
      "The Blue Castle: a novel by L. M.  Montgomery\n"
     ]
    }
   ],
   "source": [
    "print(\"Extracted eBook titles and authors:\")\n",
    "for title in clean_ebook_titles[:10]:\n",
    "    print(title)"
   ]
  },
  {
   "cell_type": "code",
   "execution_count": null,
   "id": "8b395a98",
   "metadata": {},
   "outputs": [],
   "source": []
  }
 ],
 "metadata": {
  "kernelspec": {
   "display_name": "Python 3 (ipykernel)",
   "language": "python",
   "name": "python3"
  },
  "language_info": {
   "codemirror_mode": {
    "name": "ipython",
    "version": 3
   },
   "file_extension": ".py",
   "mimetype": "text/x-python",
   "name": "python",
   "nbconvert_exporter": "python",
   "pygments_lexer": "ipython3",
   "version": "3.11.4"
  }
 },
 "nbformat": 4,
 "nbformat_minor": 5
}
